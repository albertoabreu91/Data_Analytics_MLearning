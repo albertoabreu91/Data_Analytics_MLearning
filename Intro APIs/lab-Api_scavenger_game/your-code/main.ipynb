{
 "cells": [
  {
   "cell_type": "markdown",
   "metadata": {},
   "source": [
    "# API Scavenger Game\n",
    "\n",
    "## Challenge 1: Fork Languages\n",
    "\n",
    "You will find out how many programming languages are used among all the forks created from the main lab repo of your bootcamp."
   ]
  },
  {
   "cell_type": "code",
   "execution_count": 297,
   "metadata": {},
   "outputs": [],
   "source": [
    "# import libraries here\n",
    "import requests as req\n",
    "import json\n",
    "import pandas as pd\n",
    "import pymysql\n",
    "from sqlalchemy import create_engine"
   ]
  },
  {
   "cell_type": "markdown",
   "metadata": {},
   "source": [
    "Assuming the main lab repo is ironhack-datalabs/madrid-oct-2018, you will:\n",
    "\n",
    "#### 1. Obtain the full list of forks created from the main lab repo via Github API."
   ]
  },
  {
   "cell_type": "code",
   "execution_count": null,
   "metadata": {},
   "outputs": [],
   "source": [
    "# your code here"
   ]
  },
  {
   "cell_type": "code",
   "execution_count": 145,
   "metadata": {},
   "outputs": [
    {
     "data": {
      "text/plain": [
       "True"
      ]
     },
     "execution_count": 145,
     "metadata": {},
     "output_type": "execute_result"
    }
   ],
   "source": [
    "\n",
    "end_point ='https://api.github.com/repos/ironhack-datalabs/madrid-oct-2018/forks'\n",
    "params = {'sort' : 'oldest'}\n",
    "\n",
    "endpoint == end_point"
   ]
  },
  {
   "cell_type": "code",
   "execution_count": 146,
   "metadata": {},
   "outputs": [],
   "source": [
    "request = req.get(end_point, params = params)"
   ]
  },
  {
   "cell_type": "code",
   "execution_count": 147,
   "metadata": {},
   "outputs": [
    {
     "data": {
      "text/plain": [
       "<Response [200]>"
      ]
     },
     "execution_count": 147,
     "metadata": {},
     "output_type": "execute_result"
    }
   ],
   "source": [
    "request"
   ]
  },
  {
   "cell_type": "code",
   "execution_count": 148,
   "metadata": {},
   "outputs": [],
   "source": [
    "json_mad_18 = request.json()"
   ]
  },
  {
   "cell_type": "code",
   "execution_count": null,
   "metadata": {},
   "outputs": [],
   "source": []
  },
  {
   "cell_type": "code",
   "execution_count": 176,
   "metadata": {},
   "outputs": [],
   "source": [
    "def get_list(json_file,key):\n",
    "    list_key = []\n",
    "    for i in range(len(json_file)):\n",
    "        value = json_file[i][key]\n",
    "        list_key.append(value)\n",
    "    return list_key"
   ]
  },
  {
   "cell_type": "code",
   "execution_count": 177,
   "metadata": {},
   "outputs": [],
   "source": [
    "fork_names = get_list(json_file=json_mad_18, key='full_name')"
   ]
  },
  {
   "cell_type": "code",
   "execution_count": 178,
   "metadata": {},
   "outputs": [
    {
     "data": {
      "text/plain": [
       "['marisfont/madrid-oct-2018',\n",
       " 'albertogcmr/madrid-oct-2018',\n",
       " 'miriammg/madrid-oct-2018',\n",
       " 'pablobarrio/madrid-oct-2018',\n",
       " 'elenajpp/madrid-oct-2018',\n",
       " 'AlbertoCastellanos/madrid-oct-2018',\n",
       " 'boyander/madrid-oct-2018',\n",
       " 'criraca/madrid-oct-2018',\n",
       " 'cmvalma/madrid-oct-2018',\n",
       " 'ArieHassan/madrid-oct-2018',\n",
       " 'eye8/madrid-oct-2018',\n",
       " 'lmartinezruizit/datamad0119',\n",
       " 'aiborra11/mad-oct-2018']"
      ]
     },
     "execution_count": 178,
     "metadata": {},
     "output_type": "execute_result"
    }
   ],
   "source": [
    "fork_names"
   ]
  },
  {
   "cell_type": "code",
   "execution_count": 153,
   "metadata": {},
   "outputs": [],
   "source": [
    "df_forks = pd.DataFrame(json_mad_18)"
   ]
  },
  {
   "cell_type": "markdown",
   "metadata": {},
   "source": [
    "#### 2. Loop the JSON response to find out the language attribute of each fork. Use an array to store the language attributes of each fork.\n",
    "Hint: Each language should appear only once in your array.\n",
    "Print the language array. It should be something like: [\"Python\", \"Jupyter Notebook\", \"HTML\"]"
   ]
  },
  {
   "cell_type": "code",
   "execution_count": 179,
   "metadata": {},
   "outputs": [],
   "source": [
    "# your code here\n",
    "\n",
    "lang_list = get_list(json_mad_18, key='language')"
   ]
  },
  {
   "cell_type": "code",
   "execution_count": 180,
   "metadata": {},
   "outputs": [
    {
     "name": "stdout",
     "output_type": "stream",
     "text": [
      "Counter({'Jupyter Notebook': 11, 'Python': 1, 'HTML': 1})\n"
     ]
    }
   ],
   "source": [
    "import collections\n",
    "\n",
    "counter_lang=collections.Counter(lang_list)\n",
    "\n",
    "print(counter_lang)\n"
   ]
  },
  {
   "cell_type": "code",
   "execution_count": 181,
   "metadata": {},
   "outputs": [
    {
     "data": {
      "text/plain": [
       "['HTML', 'Jupyter Notebook', 'Python']"
      ]
     },
     "execution_count": 181,
     "metadata": {},
     "output_type": "execute_result"
    }
   ],
   "source": [
    "lang_list_unique = list(set(lang_list))\n",
    "lang_list_unique"
   ]
  },
  {
   "cell_type": "markdown",
   "metadata": {},
   "source": [
    "##### Using a dataframe just to pratice...."
   ]
  },
  {
   "cell_type": "code",
   "execution_count": 91,
   "metadata": {},
   "outputs": [],
   "source": [
    "df_languages_count =df_forks.groupby('language').count()"
   ]
  },
  {
   "cell_type": "code",
   "execution_count": 103,
   "metadata": {},
   "outputs": [
    {
     "data": {
      "text/html": [
       "<div>\n",
       "<style scoped>\n",
       "    .dataframe tbody tr th:only-of-type {\n",
       "        vertical-align: middle;\n",
       "    }\n",
       "\n",
       "    .dataframe tbody tr th {\n",
       "        vertical-align: top;\n",
       "    }\n",
       "\n",
       "    .dataframe thead th {\n",
       "        text-align: right;\n",
       "    }\n",
       "</style>\n",
       "<table border=\"1\" class=\"dataframe\">\n",
       "  <thead>\n",
       "    <tr style=\"text-align: right;\">\n",
       "      <th></th>\n",
       "      <th>archive_url</th>\n",
       "    </tr>\n",
       "    <tr>\n",
       "      <th>language</th>\n",
       "      <th></th>\n",
       "    </tr>\n",
       "  </thead>\n",
       "  <tbody>\n",
       "    <tr>\n",
       "      <th>Jupyter Notebook</th>\n",
       "      <td>11</td>\n",
       "    </tr>\n",
       "    <tr>\n",
       "      <th>HTML</th>\n",
       "      <td>1</td>\n",
       "    </tr>\n",
       "    <tr>\n",
       "      <th>Python</th>\n",
       "      <td>1</td>\n",
       "    </tr>\n",
       "  </tbody>\n",
       "</table>\n",
       "</div>"
      ],
      "text/plain": [
       "                  archive_url\n",
       "language                     \n",
       "Jupyter Notebook           11\n",
       "HTML                        1\n",
       "Python                      1"
      ]
     },
     "execution_count": 103,
     "metadata": {},
     "output_type": "execute_result"
    }
   ],
   "source": [
    "df_languages_count = df_languages_count.sort_values(by='archive_url', ascending=False).\\\n",
    "drop(df_languages_count.iloc[:,1:], axis=1).rename({'archive_url': 'lang_counts'})\n",
    "\n",
    "df_languages_count"
   ]
  },
  {
   "cell_type": "markdown",
   "metadata": {},
   "source": [
    "## Challenge 2: Count Commits\n",
    "Count how many commits were made in the past week.\n",
    "#### 1. Obtain all the commits made in the past week via API, which is a JSON array that contains multiple commit objects."
   ]
  },
  {
   "cell_type": "code",
   "execution_count": 157,
   "metadata": {},
   "outputs": [],
   "source": [
    "# your code here\n",
    "\n",
    "end_point_commits ='https://api.github.com/repos/ironhack-datalabs/madrid-oct-2018/commits'\n",
    "params = {'since' : '2018-10-01T00:00:00Z', 'until': '2019-07-01T00:00:00Z'}\n"
   ]
  },
  {
   "cell_type": "code",
   "execution_count": 158,
   "metadata": {},
   "outputs": [],
   "source": [
    "request = req.get(end_point_commits, params = params)"
   ]
  },
  {
   "cell_type": "code",
   "execution_count": 159,
   "metadata": {},
   "outputs": [
    {
     "data": {
      "text/plain": [
       "<Response [200]>"
      ]
     },
     "execution_count": 159,
     "metadata": {},
     "output_type": "execute_result"
    }
   ],
   "source": [
    "request"
   ]
  },
  {
   "cell_type": "code",
   "execution_count": 160,
   "metadata": {},
   "outputs": [],
   "source": [
    "json_commits_mad_18 = request.json()"
   ]
  },
  {
   "cell_type": "code",
   "execution_count": 360,
   "metadata": {},
   "outputs": [
    {
     "data": {
      "text/plain": [
       "['f332b5e6fcea965dc80f62220d7ee1457b04b90d',\n",
       " '4c048c3efc18cf9d50e34c76919c8049ee7f2dbd',\n",
       " '41e09d4fbf64bacb2fdfe7d90cdd0cd71bd24310',\n",
       " '750eb91e4535c14ec4bf03f60cb5756a1c93f68f',\n",
       " '4a8cc3cb64821cb58182a3a94be38f17d27a8e8f',\n",
       " '1501bac01f8183d223a47ca7f23649a5d98d7e00',\n",
       " '6c2a1247d4e13a37261081279f250ffa82ed5c96',\n",
       " 'cc02db3df76c8a16ecee3f7a937366ff427a7c3a',\n",
       " '49ba929952728ab17635591cf55137c8af01babb',\n",
       " 'ba93368ee5593b15c7b1829f82cbacb9a003476c',\n",
       " '2034c389cb81f30d30f94acc2a5237377d387dc1',\n",
       " '09cf3f0163fe3895128cb322f5450672435ede7e',\n",
       " '825dea0b3aab60bf587130441fab30d8abab775c',\n",
       " 'ced5e055e9313f60c57a7daab4ee89eac9f2c409',\n",
       " '2cda9ab92b0f4dbfbe72e39a1bc26b9d7e41d28f',\n",
       " '2db6ca9372c8585a0a894cef5c8be3c51a4547a7',\n",
       " '4887dd8d4b582f6279c6f23114842d3fd071e62a',\n",
       " '14a4c26acde03b2ebff1e1e84da29d60bc532410',\n",
       " 'b57627cc8931bdeb56b48bd853beac0b569e6e93',\n",
       " '86cde628c887d7b52fd4f89d8fe8d77e7d74832c',\n",
       " '2df87cad452ef32a3b81d869dd3e5cd7af6f9bec',\n",
       " '2d73890c0bf8e68223bef89f2ae543f05cfac913',\n",
       " '89528ae791f7d3b93c026fb70952347d6056953f',\n",
       " '58709c4fe45627fc57fb88f0c05833c06455ec89',\n",
       " '32011b647f723a6f955644ae09b5b358e3b5783a',\n",
       " 'd3e36fdde865bea8a440359df80bd9dfa8a08593',\n",
       " 'af103caadf46f82fa4a8e31714f23a17fd31f309',\n",
       " '5e2c75d941c350cf87f97966efe9a4b02beb55bd',\n",
       " 'c42c3443ac28336498b6adb3f52d673967b49a28',\n",
       " '46ebf45b02631c31185c8079010933fb03ccaf4f']"
      ]
     },
     "execution_count": 360,
     "metadata": {},
     "output_type": "execute_result"
    }
   ],
   "source": [
    "commit_list = get_list(json_file=json_commits_mad_18, key='sha')\n",
    "commit_list"
   ]
  },
  {
   "cell_type": "markdown",
   "metadata": {},
   "source": [
    "#### 2. Count how many commit objects are contained in the array."
   ]
  },
  {
   "cell_type": "code",
   "execution_count": 361,
   "metadata": {},
   "outputs": [
    {
     "name": "stdout",
     "output_type": "stream",
     "text": [
      "There were 30 commits during the period Oct-2019 and today\n"
     ]
    }
   ],
   "source": [
    "# your code here\n",
    "print(f\"There were {len(commit_list)} commits during the period Oct-2019 and today\")"
   ]
  },
  {
   "cell_type": "markdown",
   "metadata": {},
   "source": [
    "## Challenge 3: Hidden Cold Joke\n",
    "\n",
    "Using Python, call Github API to find out the cold joke contained in the 24 secret files in the following repo:\n",
    "\n",
    "https://github.com/ironhack-datalabs/scavenger\n",
    "\n",
    "The filenames of the secret files contain .scavengerhunt and they are scattered in different directories of this repo. The secret files are named from .0001.scavengerhunt to .0024.scavengerhunt. They are scattered randomly throughout this repo. You need to search for these files by calling the Github API, not searching the local files on your computer.\n",
    "\n",
    "#### 1. Find the secret files."
   ]
  },
  {
   "cell_type": "code",
   "execution_count": 247,
   "metadata": {},
   "outputs": [],
   "source": [
    "#Retrieving the contents from the API\n",
    "\n",
    "# This only have info of the directories but bot from the files in them.\n",
    "\n",
    "end_point_dir = 'https://api.github.com/repos/ironhack-datalabs/scavenger/contents'\n",
    "request = req.get(end_point_dir)\n",
    "json_files = request.json()"
   ]
  },
  {
   "cell_type": "code",
   "execution_count": 248,
   "metadata": {},
   "outputs": [],
   "source": [
    "# Gettting a list of only the directories paths\n",
    "\n",
    "dir_list = get_list(json_file=json_files, key='path')\n"
   ]
  },
  {
   "cell_type": "code",
   "execution_count": 249,
   "metadata": {},
   "outputs": [],
   "source": [
    "#Removing the file .gitignore from the directories list\n",
    "\n",
    "dir_list.remove('.gitignore')"
   ]
  },
  {
   "cell_type": "code",
   "execution_count": 252,
   "metadata": {},
   "outputs": [],
   "source": [
    "# Getting a list of all the files of interest\n",
    "\n",
    "sec_files = []\n",
    "\n",
    "for i in range(1,10):\n",
    "    file = f'.000{i}.scavengerhunt'\n",
    "    sec_files.append(file)\n",
    "    \n",
    "for i in range(10,25):\n",
    "    file = f'.00{i}.scavengerhunt'\n",
    "    sec_files.append(file)\n",
    "    \n"
   ]
  },
  {
   "cell_type": "code",
   "execution_count": null,
   "metadata": {},
   "outputs": [],
   "source": []
  },
  {
   "cell_type": "code",
   "execution_count": 257,
   "metadata": {},
   "outputs": [],
   "source": [
    "\n",
    "# THIS IS THE REQUEST FOR THIS PART\n",
    "\n",
    "end_point ='https://api.github.com/search/code?q=scavengerhunt+in:path+repo:ironhack-datalabs/scavenger'\n",
    "\n",
    "request_2 = req.get(end_point)\n"
   ]
  },
  {
   "cell_type": "code",
   "execution_count": 260,
   "metadata": {},
   "outputs": [],
   "source": [
    "dir_files = request_2.json()"
   ]
  },
  {
   "cell_type": "code",
   "execution_count": 266,
   "metadata": {},
   "outputs": [
    {
     "data": {
      "text/plain": [
       "'15024/.0006.scavengerhunt'"
      ]
     },
     "execution_count": 266,
     "metadata": {},
     "output_type": "execute_result"
    }
   ],
   "source": [
    "dir_files['items'][0]['path']"
   ]
  },
  {
   "cell_type": "code",
   "execution_count": 269,
   "metadata": {},
   "outputs": [],
   "source": [
    "full_path_list = []\n",
    "\n",
    "for i in range(len(dir_files['items'])):\n",
    "    path = dir_files['items'][i]['path']\n",
    "    full_path_list.append(path)\n",
    "    "
   ]
  },
  {
   "cell_type": "code",
   "execution_count": 270,
   "metadata": {},
   "outputs": [
    {
     "data": {
      "text/plain": [
       "['15024/.0006.scavengerhunt',\n",
       " '49418/.0014.scavengerhunt',\n",
       " '15534/.0008.scavengerhunt',\n",
       " '70985/.0017.scavengerhunt',\n",
       " '15534/.0012.scavengerhunt',\n",
       " '17020/.0007.scavengerhunt',\n",
       " '91701/.0015.scavengerhunt',\n",
       " '30351/.0021.scavengerhunt',\n",
       " '40303/.0022.scavengerhunt',\n",
       " '44639/.0005.scavengerhunt',\n",
       " '89338/.0013.scavengerhunt',\n",
       " '45525/.0018.scavengerhunt',\n",
       " '47222/.0016.scavengerhunt',\n",
       " '97881/.0009.scavengerhunt',\n",
       " '47222/.0024.scavengerhunt',\n",
       " '47830/.0010.scavengerhunt',\n",
       " '50896/.0011.scavengerhunt',\n",
       " '55417/.0023.scavengerhunt',\n",
       " '55685/.0020.scavengerhunt',\n",
       " '60224/.0003.scavengerhunt',\n",
       " '68848/.0004.scavengerhunt',\n",
       " '70751/.0019.scavengerhunt',\n",
       " '88596/.0002.scavengerhunt',\n",
       " '98750/.0001.scavengerhunt']"
      ]
     },
     "execution_count": 270,
     "metadata": {},
     "output_type": "execute_result"
    }
   ],
   "source": [
    "full_path_list"
   ]
  },
  {
   "cell_type": "markdown",
   "metadata": {},
   "source": [
    "##### Ignore the next cell, it was just an experiment..."
   ]
  },
  {
   "cell_type": "code",
   "execution_count": 246,
   "metadata": {},
   "outputs": [
    {
     "data": {
      "text/plain": [
       "\"import datetime\\n\\njson_files_lst = []\\n\\nfor j in range(len(dir_list)):\\n    for i in range(len(sec_files)):\\n        end_point_dir = f'https://api.github.com/repos/ironhack-datalabs/scavenger/contents/{dir_list[i]}/{sec_files[i]}'\\n        request = req.get(end_point_dir)\\n        json_files = request.json()\\n        json_files_lst.append(json_files)\\n        print(request)\\n        print(datetime.datetime.now())\""
      ]
     },
     "execution_count": 246,
     "metadata": {},
     "output_type": "execute_result"
    }
   ],
   "source": [
    "### Just as an experimente, it works but GitHub limited my request.\n",
    "\n",
    "\n",
    "import datetime\n",
    "\n",
    "json_files_lst = []\n",
    "\n",
    "for j in range(len(dir_list)):\n",
    "    for i in range(len(sec_files)):\n",
    "        end_point_dir = f'https://api.github.com/repos/ironhack-datalabs/scavenger/contents/{dir_list[i]}/{sec_files[i]}'\n",
    "        request = req.get(end_point_dir)\n",
    "        json_files = request.json()\n",
    "        json_files_lst.append(json_files)\n",
    "        print(request)\n",
    "        print(datetime.datetime.now())\n",
    "    \n",
    "    \n",
    "    "
   ]
  },
  {
   "cell_type": "markdown",
   "metadata": {},
   "source": [
    "#### Continue"
   ]
  },
  {
   "cell_type": "markdown",
   "metadata": {},
   "source": [
    "#### 2.  Sort the filenames ascendingly."
   ]
  },
  {
   "cell_type": "code",
   "execution_count": 286,
   "metadata": {},
   "outputs": [
    {
     "data": {
      "text/plain": [
       "['98750/.0001.scavengerhunt',\n",
       " '88596/.0002.scavengerhunt',\n",
       " '60224/.0003.scavengerhunt',\n",
       " '68848/.0004.scavengerhunt',\n",
       " '44639/.0005.scavengerhunt',\n",
       " '15024/.0006.scavengerhunt',\n",
       " '17020/.0007.scavengerhunt',\n",
       " '15534/.0008.scavengerhunt',\n",
       " '97881/.0009.scavengerhunt',\n",
       " '47830/.0010.scavengerhunt',\n",
       " '50896/.0011.scavengerhunt',\n",
       " '15534/.0012.scavengerhunt',\n",
       " '89338/.0013.scavengerhunt',\n",
       " '49418/.0014.scavengerhunt',\n",
       " '91701/.0015.scavengerhunt',\n",
       " '47222/.0016.scavengerhunt',\n",
       " '70985/.0017.scavengerhunt',\n",
       " '45525/.0018.scavengerhunt',\n",
       " '70751/.0019.scavengerhunt',\n",
       " '55685/.0020.scavengerhunt',\n",
       " '30351/.0021.scavengerhunt',\n",
       " '40303/.0022.scavengerhunt',\n",
       " '55417/.0023.scavengerhunt',\n",
       " '47222/.0024.scavengerhunt']"
      ]
     },
     "execution_count": 286,
     "metadata": {},
     "output_type": "execute_result"
    }
   ],
   "source": [
    "# your code here\n",
    "full_path_list = sorted(full_path_list, key=lambda x: int(x.partition('/.00')[2].partition('.')[0]))\n",
    "full_path_list"
   ]
  },
  {
   "cell_type": "markdown",
   "metadata": {},
   "source": [
    "#### 3. Read the content of each secret files into an array of strings."
   ]
  },
  {
   "cell_type": "code",
   "execution_count": 293,
   "metadata": {},
   "outputs": [
    {
     "name": "stdout",
     "output_type": "stream",
     "text": [
      "https://api.github.com/repos/ironhack-datalabs/scavenger/contents/98750/.0001.scavengerhunt\n",
      "https://api.github.com/repos/ironhack-datalabs/scavenger/contents/88596/.0002.scavengerhunt\n",
      "https://api.github.com/repos/ironhack-datalabs/scavenger/contents/60224/.0003.scavengerhunt\n",
      "https://api.github.com/repos/ironhack-datalabs/scavenger/contents/68848/.0004.scavengerhunt\n",
      "https://api.github.com/repos/ironhack-datalabs/scavenger/contents/44639/.0005.scavengerhunt\n",
      "https://api.github.com/repos/ironhack-datalabs/scavenger/contents/15024/.0006.scavengerhunt\n",
      "https://api.github.com/repos/ironhack-datalabs/scavenger/contents/17020/.0007.scavengerhunt\n",
      "https://api.github.com/repos/ironhack-datalabs/scavenger/contents/15534/.0008.scavengerhunt\n",
      "https://api.github.com/repos/ironhack-datalabs/scavenger/contents/97881/.0009.scavengerhunt\n",
      "https://api.github.com/repos/ironhack-datalabs/scavenger/contents/47830/.0010.scavengerhunt\n",
      "https://api.github.com/repos/ironhack-datalabs/scavenger/contents/50896/.0011.scavengerhunt\n",
      "https://api.github.com/repos/ironhack-datalabs/scavenger/contents/15534/.0012.scavengerhunt\n",
      "https://api.github.com/repos/ironhack-datalabs/scavenger/contents/89338/.0013.scavengerhunt\n",
      "https://api.github.com/repos/ironhack-datalabs/scavenger/contents/49418/.0014.scavengerhunt\n",
      "https://api.github.com/repos/ironhack-datalabs/scavenger/contents/91701/.0015.scavengerhunt\n",
      "https://api.github.com/repos/ironhack-datalabs/scavenger/contents/47222/.0016.scavengerhunt\n",
      "https://api.github.com/repos/ironhack-datalabs/scavenger/contents/70985/.0017.scavengerhunt\n",
      "https://api.github.com/repos/ironhack-datalabs/scavenger/contents/45525/.0018.scavengerhunt\n",
      "https://api.github.com/repos/ironhack-datalabs/scavenger/contents/70751/.0019.scavengerhunt\n",
      "https://api.github.com/repos/ironhack-datalabs/scavenger/contents/55685/.0020.scavengerhunt\n",
      "https://api.github.com/repos/ironhack-datalabs/scavenger/contents/30351/.0021.scavengerhunt\n",
      "https://api.github.com/repos/ironhack-datalabs/scavenger/contents/40303/.0022.scavengerhunt\n",
      "https://api.github.com/repos/ironhack-datalabs/scavenger/contents/55417/.0023.scavengerhunt\n",
      "https://api.github.com/repos/ironhack-datalabs/scavenger/contents/47222/.0024.scavengerhunt\n"
     ]
    }
   ],
   "source": [
    "for i in range(len(full_path_list)):\n",
    "    end_point_dir = f'https://api.github.com/repos/ironhack-datalabs/scavenger/contents/{full_path_list[i]}'\n",
    "    print(end_point_dir)"
   ]
  },
  {
   "cell_type": "code",
   "execution_count": 350,
   "metadata": {},
   "outputs": [
    {
     "name": "stdout",
     "output_type": "stream",
     "text": [
      "<Response [200]>\n",
      "2019-07-12 12:39:23.199272\n",
      "<Response [200]>\n",
      "2019-07-12 12:39:23.504992\n",
      "<Response [200]>\n",
      "2019-07-12 12:39:23.874336\n",
      "<Response [200]>\n",
      "2019-07-12 12:39:24.193503\n",
      "<Response [200]>\n",
      "2019-07-12 12:39:24.539709\n",
      "<Response [200]>\n",
      "2019-07-12 12:39:24.901809\n",
      "<Response [200]>\n",
      "2019-07-12 12:39:25.253349\n",
      "<Response [200]>\n",
      "2019-07-12 12:39:25.615016\n",
      "<Response [200]>\n",
      "2019-07-12 12:39:25.982959\n",
      "<Response [200]>\n",
      "2019-07-12 12:39:26.341063\n",
      "<Response [200]>\n",
      "2019-07-12 12:39:26.667657\n",
      "<Response [200]>\n",
      "2019-07-12 12:39:26.984204\n",
      "<Response [200]>\n",
      "2019-07-12 12:39:27.314762\n",
      "<Response [200]>\n",
      "2019-07-12 12:39:27.642450\n",
      "<Response [200]>\n",
      "2019-07-12 12:39:27.964812\n",
      "<Response [200]>\n",
      "2019-07-12 12:39:28.326748\n",
      "<Response [200]>\n",
      "2019-07-12 12:39:28.649987\n",
      "<Response [200]>\n",
      "2019-07-12 12:39:28.977203\n",
      "<Response [200]>\n",
      "2019-07-12 12:39:29.313749\n",
      "<Response [200]>\n",
      "2019-07-12 12:39:29.659469\n",
      "<Response [200]>\n",
      "2019-07-12 12:39:29.971671\n",
      "<Response [200]>\n",
      "2019-07-12 12:39:30.558408\n",
      "<Response [200]>\n",
      "2019-07-12 12:39:30.895625\n",
      "<Response [200]>\n",
      "2019-07-12 12:39:31.235522\n"
     ]
    }
   ],
   "source": [
    "# your code here\n",
    "import datetime\n",
    "\n",
    "header={'Accept': 'application/vnd.github.v3.raw'}\n",
    "\n",
    "content_list = []\n",
    "\n",
    "for i in range(len(full_path_list)):\n",
    "    end_point_dir = f'https://api.github.com/repos/ironhack-datalabs/scavenger/contents/{full_path_list[i]}'\n",
    "    request_1 = req.get(end_point_dir, headers = header)\n",
    "    content = request_1.text\n",
    "    content_list.append(content)\n",
    "    print(request)\n",
    "    print(datetime.datetime.now())\n",
    "    \n"
   ]
  },
  {
   "cell_type": "code",
   "execution_count": 352,
   "metadata": {
    "scrolled": true
   },
   "outputs": [
    {
     "data": {
      "text/plain": [
       "['In\\n',\n",
       " 'data\\n',\n",
       " 'science,\\n',\n",
       " '80\\n',\n",
       " 'percent\\n',\n",
       " 'of\\n',\n",
       " 'time\\n',\n",
       " 'spent\\n',\n",
       " 'is\\n',\n",
       " 'preparing\\n',\n",
       " 'data,\\n',\n",
       " '20\\n',\n",
       " 'percent\\n',\n",
       " 'of\\n',\n",
       " 'time\\n',\n",
       " 'is\\n',\n",
       " 'spent\\n',\n",
       " 'complaining\\n',\n",
       " 'about\\n',\n",
       " 'the\\n',\n",
       " 'need\\n',\n",
       " 'to\\n',\n",
       " 'prepare\\n',\n",
       " 'data.\\n']"
      ]
     },
     "execution_count": 352,
     "metadata": {},
     "output_type": "execute_result"
    }
   ],
   "source": [
    "content_list"
   ]
  },
  {
   "cell_type": "code",
   "execution_count": 353,
   "metadata": {},
   "outputs": [],
   "source": [
    "list_joke = []\n",
    "\n",
    "for i in range(len(content_list)):\n",
    "    word = content_list[i].strip(\"\\n\")\n",
    "    list_joke.append(word)\n",
    "    \n",
    "    "
   ]
  },
  {
   "cell_type": "markdown",
   "metadata": {},
   "source": [
    "#### 4. Concatenate the strings in the array separating each two with a whitespace."
   ]
  },
  {
   "cell_type": "code",
   "execution_count": 356,
   "metadata": {},
   "outputs": [],
   "source": [
    "joke = ' '.join(list_joke)"
   ]
  },
  {
   "cell_type": "markdown",
   "metadata": {},
   "source": [
    "#### 5. Print out the joke."
   ]
  },
  {
   "cell_type": "code",
   "execution_count": 357,
   "metadata": {},
   "outputs": [
    {
     "data": {
      "text/plain": [
       "'In data science, 80 percent of time spent is preparing data, 20 percent of time is spent complaining about the need to prepare data.'"
      ]
     },
     "execution_count": 357,
     "metadata": {},
     "output_type": "execute_result"
    }
   ],
   "source": [
    "joke"
   ]
  }
 ],
 "metadata": {
  "kernelspec": {
   "display_name": "Python 3",
   "language": "python",
   "name": "python3"
  },
  "language_info": {
   "codemirror_mode": {
    "name": "ipython",
    "version": 3
   },
   "file_extension": ".py",
   "mimetype": "text/x-python",
   "name": "python",
   "nbconvert_exporter": "python",
   "pygments_lexer": "ipython3",
   "version": "3.7.3"
  }
 },
 "nbformat": 4,
 "nbformat_minor": 2
}
